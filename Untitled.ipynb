{
 "cells": [
  {
   "cell_type": "code",
   "execution_count": 1,
   "id": "8d1c6b30",
   "metadata": {},
   "outputs": [],
   "source": [
    "import numpy as np\n",
    "import gym\n",
    "import gym_sokoban\n",
    "from tqdm import tqdm\n",
    "import torch\n",
    "import torch.nn as nn\n",
    "import torch.nn.functional as F\n",
    "from numpy_tuple import ArrayTupleConverter"
   ]
  },
  {
   "cell_type": "code",
   "execution_count": 2,
   "id": "477341cf",
   "metadata": {},
   "outputs": [],
   "source": [
    "env = gym.make(\"Sokoban-v1\")"
   ]
  },
  {
   "cell_type": "code",
   "execution_count": 3,
   "id": "df3e2a77",
   "metadata": {},
   "outputs": [],
   "source": [
    "import numpy as np\n",
    "import gym\n",
    "import gym_sokoban\n",
    "from tqdm import tqdm\n",
    "import torch\n",
    "import torch.nn as nn\n",
    "import torch.nn.functional as F\n",
    "from numpy_tuple import ArrayTupleConverter\n",
    "\n",
    "class NaiveNet(nn.Module):\n",
    "\n",
    "    def __init__(self, input_size, hidden_size, number_of_classes):\n",
    "        super(NaiveNet, self).__init__()\n",
    "        self.fc1 = nn.Linear(input_size, hidden_size)\n",
    "        self.fc2 = nn.Linear(hidden_size, number_of_classes)\n",
    "\n",
    "    def forward(self, x):\n",
    "        x = torch.from_numpy(x).float().flatten()\n",
    "        x = F.relu(self.fc1(x))\n",
    "        x = self.fc2(x)\n",
    "        return x\n",
    "\n",
    "    def calc_step(self,x):\n",
    "        prob_dist = self.forward(x)\n",
    "        pred = int(torch.argmax(prob_dist))\n",
    "        return pred"
   ]
  },
  {
   "cell_type": "code",
   "execution_count": null,
   "id": "dd531d59",
   "metadata": {},
   "outputs": [],
   "source": [
    "\"\"\" set-up env \"\"\"\n",
    "env = gym.make(\"Sokoban-v1\")\n",
    "\n",
    "\"\"\" get env data for model \"\"\"\n",
    "x_dim,y_dim = env.dim_room\n",
    "input_size = x_dim*y_dim\n",
    "hidden_size = x_dim*y_dim*2\n",
    "out_size = env.action_space.n\n",
    "\n",
    "\"\"\" set-up model \"\"\"\n",
    "model = NaiveNet(input_size,hidden_size,out_size)\n",
    "\n",
    "converter = ArrayTupleConverter((x_dim,y_dim))\n",
    "\n",
    "for attempt in range(1):\n",
    "    env.reset()\n",
    "    states = set()\n",
    "    state = env.room_state\n",
    "    ob = tuple(state.flatten())\n",
    "    states.add(ob)\n",
    "    for action in range(100):\n",
    "        state = env.room_state\n",
    "        observation, reward, done, info = env.step(action)\n",
    "        ob = tuple(state.flatten())\n",
    "        states.add(ob)\n",
    "    print(len(states))"
   ]
  }
 ],
 "metadata": {
  "kernelspec": {
   "display_name": "Python 3",
   "language": "python",
   "name": "python3"
  },
  "language_info": {
   "codemirror_mode": {
    "name": "ipython",
    "version": 3
   },
   "file_extension": ".py",
   "mimetype": "text/x-python",
   "name": "python",
   "nbconvert_exporter": "python",
   "pygments_lexer": "ipython3",
   "version": "3.7.10"
  }
 },
 "nbformat": 4,
 "nbformat_minor": 5
}
